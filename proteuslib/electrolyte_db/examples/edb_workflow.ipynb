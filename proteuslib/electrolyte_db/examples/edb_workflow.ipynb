{
 "cells": [
  {
   "cell_type": "code",
   "execution_count": 1,
   "metadata": {
    "collapsed": true
   },
   "outputs": [],
   "source": [
    "from edb import ElectrolyteDB\n",
    "import os\n",
    "\n",
    "edb = ElectrolyteDB(\"edb_workflow.sqlite\")"
   ]
  },
  {
   "cell_type": "markdown",
   "source": [
    "1. For this example, we will choose the Hydronium form and a basic solution.\n",
    "\n",
    "2. We add H2O and KHCO3 as known species, and indicate that H2O is the solvent\n",
    "\n",
    "    * These are added to the Unsorted component list\n"
   ],
   "metadata": {
    "collapsed": false
   }
  },
  {
   "cell_type": "code",
   "execution_count": 2,
   "outputs": [],
   "source": [
    "from dataclasses import dataclass, field\n",
    "from typing import Set\n",
    "\n",
    "@dataclass\n",
    "class SpeciesManager:\n",
    "    \"\"\"Convenience class to help keep track of different lists of species.\n",
    "    \"\"\"\n",
    "    unsorted: Set = field(default_factory=set)\n",
    "    solvent: Set = field(default_factory=set)\n",
    "    apparent: Set = field(default_factory=set)\n",
    "    cation: Set = field(default_factory=set)\n",
    "    anion: Set = field(default_factory=set)\n",
    "    liquid: Set = field(default_factory=set)\n",
    "\n",
    "    def move(self, name, from_list, to_list):\n",
    "        \"\"\"Move a species from one list to another.\n",
    "        \"\"\"\n",
    "        err = None\n",
    "        src = getattr(self, from_list, None)\n",
    "        if src is None:\n",
    "            err = f\"unknown source list '{src}'\"\n",
    "        else:\n",
    "            dst = getattr(self, to_list, None)\n",
    "            if dst is None:\n",
    "                err = f\"unknown destination list '{to_list}'\"\n",
    "            else:\n",
    "                if name not in src:\n",
    "                    err = f\"component '{name}' not found in list '{from_list}'\"\n",
    "                else:\n",
    "                    if name in dst:\n",
    "                        err = f\"component '{name}' is in source list '{from_list}' and \" \\\n",
    "                              f\"destination list '{to_list}'\"\n",
    "                    else:\n",
    "                        src.remove(name)\n",
    "                        dst.add(name)\n",
    "                        print(f\"Moved '{name}' from {from_list} => {to_list}\")\n",
    "        if err is not None:\n",
    "            raise ValueError(err)\n",
    "\n",
    "    def all(self, unsorted=True):\n",
    "        s = self. solvent | self.apparent | self.cation | self.anion\n",
    "        if unsorted:\n",
    "            s |= self.unsorted\n",
    "        return s"
   ],
   "metadata": {
    "collapsed": false,
    "pycharm": {
     "name": "#%%\n"
    }
   }
  },
  {
   "cell_type": "markdown",
   "source": [
    "\n",
    "3. Lookup component types\n",
    "\n",
    "    * `lookup_component(H2O).type >>> \"molecular\"`\n",
    "        * As water is indicated as a solvent, confirm that type is \"molecular\" and add to Solvent list and remove from \"Unsorted\"\n",
    "        * `lookup_component(KHCO3).type >>> \"salt\"`\n",
    "        * Add to \"Apparent\" list and remove from \"Unsorted\"\n"
   ],
   "metadata": {
    "collapsed": false,
    "pycharm": {
     "name": "#%% md\n"
    }
   }
  },
  {
   "cell_type": "code",
   "execution_count": 3,
   "outputs": [],
   "source": [
    "sp = SpeciesManager(unsorted={\"H2O\", \"KHCO3\"})\n"
   ],
   "metadata": {
    "collapsed": false,
    "pycharm": {
     "name": "#%%\n"
    }
   }
  },
  {
   "cell_type": "code",
   "execution_count": 4,
   "outputs": [],
   "source": [
    "# for each sub-list, keys are arbitrary names like \"S001\"\n",
    "reactions = {'dissociation': {}}"
   ],
   "metadata": {
    "collapsed": false,
    "pycharm": {
     "name": "#%%\n"
    }
   }
  },
  {
   "cell_type": "code",
   "execution_count": 5,
   "outputs": [
    {
     "name": "stdout",
     "output_type": "stream",
     "text": [
      "Type for component H2O => molecular\n",
      "Moved 'H2O' from unsorted => solvent\n",
      "Type for component KHCO3 => salt\n",
      "Moved 'KHCO3' from unsorted => apparent\n"
     ]
    }
   ],
   "source": [
    "comp = edb.get_component(\"H2O\")\n",
    "print(f\"Type for component H2O => {comp.type}\")\n",
    "assert comp.type == \"molecular\"\n",
    "sp.move(\"H2O\", \"unsorted\", \"solvent\")\n",
    "comp = edb.get_component(\"KHCO3\")\n",
    "print(f\"Type for component KHCO3 => {comp.type}\")\n",
    "assert comp.type == \"salt\"\n",
    "sp.move(\"KHCO3\", \"unsorted\", \"apparent\")"
   ],
   "metadata": {
    "collapsed": false,
    "pycharm": {
     "name": "#%%\n"
    }
   }
  },
  {
   "cell_type": "markdown",
   "source": [
    "\n",
    "4. Iterate over \"Apparent\" list and lookup dissociation species\n",
    "    * `lookup_component(KHCO3).dissociation >>> [K+, OH-]`, ID for dissociation reaction (call it S001 for now)\n"
   ],
   "metadata": {
    "collapsed": false,
    "pycharm": {
     "name": "#%% md\n"
    }
   }
  },
  {
   "cell_type": "code",
   "execution_count": 6,
   "outputs": [
    {
     "name": "stdout",
     "output_type": "stream",
     "text": [
      "KHCO3 dissociation: ['K+', 'HCO3-']\n"
     ]
    }
   ],
   "source": [
    "for s in sp.apparent:\n",
    "    comp = edb.get_component(s)\n",
    "    print(f\"{s} dissociation: {comp.dissociation}\")\n"
   ],
   "metadata": {
    "collapsed": false,
    "pycharm": {
     "name": "#%%\n"
    }
   }
  },
  {
   "cell_type": "markdown",
   "source": [
    "\n",
    "5. We will not exclude this reaction\n",
    "    * Add S001 to \"Dissociation\" reactions list\n",
    "    * Add K+ and OH- to \"Unsorted\" component list\n"
   ],
   "metadata": {
    "collapsed": false,
    "pycharm": {
     "name": "#%% md\n"
    }
   }
  },
  {
   "cell_type": "code",
   "execution_count": 7,
   "outputs": [
    {
     "data": {
      "text/plain": "{'HCO3-', 'K+'}"
     },
     "execution_count": 7,
     "metadata": {},
     "output_type": "execute_result"
    }
   ],
   "source": [
    "reactions[\"dissociation\"][\"S001\"] = comp.dissociation\n",
    "sp.unsorted |= set(comp.dissociation)\n",
    "sp.unsorted"
   ],
   "metadata": {
    "collapsed": false,
    "pycharm": {
     "name": "#%%\n"
    }
   }
  },
  {
   "cell_type": "markdown",
   "source": [
    "6. Lookup new species\n",
    "\n",
    "    * `lookup_component(K+).type >>> \"cation\"`\n",
    "    * `lookup_component(HCO3-).type >>> \"anion\"`\n",
    "    * Sort species and remove from \"Unsorted\" list\n"
   ],
   "metadata": {
    "collapsed": false,
    "pycharm": {
     "name": "#%% md\n"
    }
   }
  },
  {
   "cell_type": "code",
   "execution_count": 8,
   "outputs": [
    {
     "name": "stdout",
     "output_type": "stream",
     "text": [
      "Type for K+ => cation\n",
      "Moved 'K+' from unsorted => cation\n",
      "Type for HCO3- => anion\n",
      "Moved 'HCO3-' from unsorted => anion\n"
     ]
    }
   ],
   "source": [
    "for formula in sp.unsorted.copy():\n",
    "    comp = edb.get_component(formula)\n",
    "    print(f\"Type for {formula} => {comp.type}\")\n",
    "    # not sure what 'Sort species' means -- going to assume list-for-type, for now\n",
    "    sp.move(formula, \"unsorted\", comp.type)"
   ],
   "metadata": {
    "collapsed": false,
    "pycharm": {
     "name": "#%%\n"
    }
   }
  },
  {
   "cell_type": "markdown",
   "source": [
    "\n",
    "7. Lookup reactions from database – should find only 1 new reaction at this point:\n",
    "\n",
    "    * Water Self-Ionization, Hydronium form (H2O <-> H30+ + OH-)\n",
    "    * Add this to \"Potential\" reactions list (call it L001:hydronium for now)\n"
   ],
   "metadata": {
    "collapsed": false,
    "pycharm": {
     "name": "#%% md\n"
    }
   }
  },
  {
   "cell_type": "code",
   "execution_count": 9,
   "outputs": [
    {
     "name": "stdout",
     "output_type": "stream",
     "text": [
      "{'H2O', 'KHCO3', 'HCO3-', 'K+'}\n",
      "\n",
      "ID         : 1\n",
      "Description: Self ionization of water\n",
      "Formula    : H2O <-> H3O+ + OH-\n",
      "Form       : hydronium\n",
      "Conditions : occurs naturally in all aqueous systems\n",
      "Acid/Base  : any\n",
      "pKa at 298K: 13.995\n",
      "\n"
     ]
    }
   ],
   "source": [
    "print(sp.all())\n",
    "rct = edb.get_reactions({'H2O'}, form_filter={'hydronium'})\n",
    "#assert len(rct) == 1\n",
    "print()\n",
    "for r in rct:\n",
    "    print(r.as_text())\n",
    "    print()"
   ],
   "metadata": {
    "collapsed": false,
    "pycharm": {
     "name": "#%%\n"
    }
   }
  },
  {
   "cell_type": "markdown",
   "source": [
    "8. No custom reactions to add\n",
    "9. We will not exclude the water self-ionization reaction\n",
    "\n",
    "    * Add water self-ionisation to \"Liquid\" reactions list\n"
   ],
   "metadata": {
    "collapsed": false,
    "pycharm": {
     "name": "#%% md\n"
    }
   }
  },
  {
   "cell_type": "code",
   "execution_count": 10,
   "outputs": [],
   "source": [
    "sp.liquid.add(rct[0])"
   ],
   "metadata": {
    "collapsed": false,
    "pycharm": {
     "name": "#%%\n"
    }
   }
  },
  {
   "cell_type": "markdown",
   "source": [
    "10. Lookup participating species for new reactions\n",
    "\n",
    "    * `lookup_reaction(L001:hydronium).participating >>> H2O, H3O+, OH-`\n",
    "    * H3O+ and OH- are new species so add to \"Unsorted\" component list\n",
    "    * Remove L001:hydronium from \"Potential\" reaction list and add to \"Liquid\" list – need to do a `lookup_reaction(L001).type >>> \"Liquid\"`"
   ],
   "metadata": {
    "collapsed": false,
    "pycharm": {
     "name": "#%% md\n"
    }
   }
  },
  {
   "cell_type": "code",
   "execution_count": 16,
   "outputs": [
    {
     "name": "stdout",
     "output_type": "stream",
     "text": [
      "ID         : 1\n",
      "Description: Self ionization of water\n",
      "Formula    : H2O <-> H3O+ + OH-\n",
      "Form       : hydronium\n",
      "Conditions : occurs naturally in all aqueous systems\n",
      "Acid/Base  : any\n",
      "pKa at 298K: 13.995\n",
      "(H2O)2\n",
      "H3O+\n",
      "OH-\n"
     ]
    }
   ],
   "source": [
    "l001 = rct[0]\n",
    "reactions = edb.get_reactions(l001.components, form_filter={\"hydronium\"})\n",
    "for r in reactions:\n",
    "    print(r)\n",
    "    for c in r.components:\n",
    "        print(c)"
   ],
   "metadata": {
    "collapsed": false,
    "pycharm": {
     "name": "#%%\n"
    }
   }
  },
  {
   "cell_type": "markdown",
   "source": [
    "\n",
    "\n",
    "\n",
    "11. Lookup type of new species (I.e those in \"Unsorted\")\n",
    "\n",
    "    * `lookup_component(H3O+).type >>> \"cation\"`\n",
    "    * `lookup_component(OH-).type >>> \"anion\"`\n",
    "    * Move components to appropriate lists\n",
    "\n",
    "12. (Repeat Step 7) – Lookup reactions from database – should find the following new reactions at this point:\n",
    "\n",
    "    * L002:hydroxide: HCO3- ↔ CO2 + OH-\n",
    "    * L003:hydroxide: HCO3- + OH-↔ CO32- + H2O\n",
    "    * S002: KOH ↔ K+ + OH-\n",
    "\n",
    "13. (Repeat Step 8) – No new custom reactions\n",
    "14. (Repeat Step 9) – Do not exclude any of these reactions\n",
    "15. (Repeat Step 10) – Look up new species\n",
    "\n",
    "    * `lookup_reaction(L002:hydroxide).participating >>> HCO3-, CO2, OH-`\n",
    "    * `lookup_reaction(L003:hydroxide).participating >>> HCO3-, OH-, CO3--, H2O`\n",
    "    * `lookup_reaction(S002).participating >>> KOH, K+, OH-`\n",
    "    * New species are CO2, CO32-, and KOH; add to \"Unsorted\"\n",
    "    * Add  L002:hydroxide and L003:hydroxide to \"Liquid\" list and S002 to \"Dissociation\" list\n",
    "\n",
    "16. (Repeat Step 11) - Lookup type of new species (I.e those in \"Unsorted\")\n",
    "\n",
    "    * `lookup_component(CO2).type >>> \"molecular\"`\n",
    "    * `lookup_component(CO3--).type >>> \"anion\"`\n",
    "    * `lookup_component(KOH).type >>> \"salt\"`\n",
    "    * Move components to appropriate lists\n",
    "\n",
    "17. (Repeat Step 7 x2) – Lookup reactions from database – should find the following new reactions at this point:•\n",
    "\n",
    "    * L004:hydronium: H2CO3 +H2O↔ HCO3- + H3O+\n",
    "    * S003: K2CO3 ↔ 2K+ + CO32-\n",
    "\n",
    "18. (Repeat Step 8 x2) – No new custom reactions\n",
    "19. (Repeat Step 9 x2) – We will exclude L004:hydronium as it is only significant at low pH\n",
    "\n",
    "    * Move L004:hydronium to \"Excluded\" list\n",
    "    * Based on expected pH range from Step 1, tool should help identify this\n",
    "    * `lookup_reaction(L004).conditions >>> some information on when this reaction is important`,\n",
    "       Should be able to identify that a basic solution can probably ignore this.\n",
    "    * Possible lookup: `lookup_reaction(L004).pKa >>> 3.6`\n",
    "\n",
    "20. (Repeat Step 10 x2) – Look up new species\n",
    "\n",
    "    * `lookup_reaction(S003).participating >>> K2CO3, K+, CO3--`\n",
    "    * One new species (K2CO3), add to unsorted list•\n",
    "    * Add S002 to \"Dissociation\" list\n",
    "\n",
    "21. (Repeat Step 11 x2) - Lookup type of new species (I.e those in \"Unsorted\")\n",
    "\n",
    "    * `lookup_component(K2CO3).type >>> \"salt\"`\n",
    "    * Move K2CO3 to \"Apparent\" list\n",
    "\n",
    "22. (Repeat Step 7 x3) – Lookup reactions from database – should find no new reactions at this point,\n",
    "    so we can finish iterating\n",
    "\n",
    "23. (Step 13) – Verify reaction network\n",
    "\n",
    "    * Lookup stoichiometry for all reactions and build a stoichiometric matrix\n",
    "    * `lookup_reaction(S001).stoichiometry >>> {KHCO3: -1, K+: +1, HCO3-: +1}, etc.`\n",
    "    * Check that every ion in the \"Anion\" and \"Cation\" has a reaction in \"Apparent\" reaction list that it takes part in.\n",
    "\n",
    "24. (Step 14) – Start writing definition dict. Additional data that will be needed here:\n",
    "\n",
    "    * Charge for ionic species (and some other types); e.g. `lookup_component(K+).charge >>> +1`\n",
    "    * Molecular weight: `lookup_component(K+).molecular_weight >>> 39.0983`\n",
    "    * Probably more, but for now these should be simple look ups of single values\n",
    "       (we won’t deal with parameter sets for now)"
   ],
   "metadata": {
    "collapsed": false,
    "pycharm": {
     "name": "#%% md\n"
    }
   }
  },
  {
   "cell_type": "code",
   "execution_count": 11,
   "outputs": [],
   "source": [],
   "metadata": {
    "collapsed": false,
    "pycharm": {
     "name": "#%%\n"
    }
   }
  }
 ],
 "metadata": {
  "kernelspec": {
   "name": "idaes3",
   "language": "python",
   "display_name": "idaes3"
  },
  "language_info": {
   "codemirror_mode": {
    "name": "ipython",
    "version": 2
   },
   "file_extension": ".py",
   "mimetype": "text/x-python",
   "name": "python",
   "nbconvert_exporter": "python",
   "pygments_lexer": "ipython2",
   "version": "2.7.6"
  },
  "pycharm": {
   "stem_cell": {
    "cell_type": "raw",
    "source": [
     "\n"
    ],
    "metadata": {
     "collapsed": false
    }
   }
  }
 },
 "nbformat": 4,
 "nbformat_minor": 0
}